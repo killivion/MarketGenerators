{
 "cells": [
  {
   "cell_type": "markdown",
   "id": "1654fc91",
   "metadata": {},
   "source": [
    "# Plot all results from statistical option analysis"
   ]
  },
  {
   "cell_type": "markdown",
   "id": "175d7402",
   "metadata": {},
   "source": [
    "Make sure to create all relevant csv files in statAnalysis notebooks first"
   ]
  },
  {
   "cell_type": "code",
   "execution_count": 1,
   "id": "aad14cbe",
   "metadata": {},
   "outputs": [],
   "source": [
    "import os\n",
    "# set working directory to MarketGenerators folder\n",
    "# if you are working on LRZ servers, create the folder \"MarketGenerators\" and then specify something like\n",
    "path = \"/dss/dsshome1/02/YOUR_LRZ_USER_NAME/MarketGenerators\"\n",
    "os.chdir(path)"
   ]
  },
  {
   "cell_type": "code",
   "execution_count": 2,
   "id": "06097395",
   "metadata": {},
   "outputs": [],
   "source": [
    "!pip install matplotlib"
   ]
  },
  {
   "cell_type": "code",
   "execution_count": 3,
   "id": "4d036bcb",
   "metadata": {},
   "outputs": [],
   "source": [
    "import pandas as pd\n",
    "from src.visualization.plot_option_results import option_csv_plotting"
   ]
  },
  {
   "cell_type": "code",
   "execution_count": null,
   "id": "66963a24",
   "metadata": {},
   "outputs": [],
   "source": [
    "model_folders = [\n",
    "    \"GBM\", \n",
    "    \"Kou_Jump_Diffusion\",\n",
    "    \"YFinance\"\n",
    "]\n",
    "base_dir = \"numerical_results\"\n",
    "option_types = [\"call\", \"put\"]\n",
    "n_days_list = [5, 10, 21, 252]\n",
    "bar_width = 0.26\n",
    "# Strike price to evaluate\n",
    "strike = \"1.00\"\n",
    "relevant_year_folders= [\n",
    "    \"n-in=0Y\", # YFinance\n",
    "    \"n-in=2Y\", \"n-in=9Y\", \"n-in=20Y\", \"n-in=50Y\", \"n-in=99Y\", \"n-in=999Y\", # Retrained\n",
    "    \"n-in=3Y\", \"n-in=10Y\", \"n-in=100Y\", \"n-in=1000Y\", \"n-in=10000Y\" # One-time trained\n",
    "]\n",
    "# Set ylim for each n_days (in %)\n",
    "ylim_map = {\n",
    "    5: (0, 52),\n",
    "    10: (0, 52),\n",
    "    21: (0, 62),\n",
    "    252: (0, 52)\n",
    "}\n",
    "# Label for y-axis\n",
    "price_label_map = {\n",
    "    \"GBM\": \"Exact\",\n",
    "    \"Kou_Jump_Diffusion\": \"Approx.\",\n",
    "    \"YFinance\": \"Input\"\n",
    "}\n",
    "target_folder = \"statistical_analysis_plots\""
   ]
  },
  {
   "cell_type": "code",
   "execution_count": null,
   "id": "4ae2fb21",
   "metadata": {},
   "outputs": [],
   "source": [
    "for model_folder in model_folders:\n",
    "    model_path = os.path.join(base_dir, model_folder)\n",
    "    print(f\"Start evaluation of {model_folder} based generators...\")\n",
    "    name_additions =  [\"retrained_model_\",\"same_model_\"] if model_folder==\"YFinance\" else [\"\"]\n",
    "    price_label = price_label_map.get(model_folder, \"?\")\n",
    "\n",
    "    for root, dirs, files in os.walk(model_path):\n",
    "        years_folder_name = os.path.basename(root)\n",
    "        if years_folder_name not in relevant_year_folders:\n",
    "            continue\n",
    "        print(f\"   ...{root}\")\n",
    "        for option_type in option_types:\n",
    "            for n_days in n_days_list:\n",
    "                ylim = ylim_map.get(n_days, None)\n",
    "                for name_addition in name_additions:\n",
    "                    csv_file = os.path.join(root, f\"{name_addition}summary_{option_type}_NDays={n_days}.csv\")\n",
    "                    df = pd.read_csv(csv_file)\n",
    "                    file_name=f\"{target_folder}/{model_folder}_{root.split('/')[2]}_{years_folder_name}_{n_days}_days_{option_type}{name_addition}\"\n",
    "                    option_csv_plotting(\n",
    "                        df, strike=strike, option_type=option_type, price_label=price_label,\n",
    "                        file_name=file_name, bar_width=bar_width, ylim=ylim\n",
    "                    )\n",
    "print(\"Done.\")"
   ]
  }
 ],
 "metadata": {
  "kernelspec": {
   "display_name": "Python 3 (ipykernel)",
   "language": "python",
   "name": "python3"
  },
  "language_info": {
   "codemirror_mode": {
    "name": "ipython",
    "version": 3
   },
   "file_extension": ".py",
   "mimetype": "text/x-python",
   "name": "python",
   "nbconvert_exporter": "python",
   "pygments_lexer": "ipython3",
   "version": "3.10.12"
  }
 },
 "nbformat": 4,
 "nbformat_minor": 5
}
