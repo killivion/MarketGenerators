{
 "cells": [
  {
   "cell_type": "markdown",
   "metadata": {},
   "source": [
    "# Evaluation logic from Liao"
   ]
  },
  {
   "cell_type": "code",
   "execution_count": 1,
   "metadata": {},
   "outputs": [],
   "source": [
    "import os\n",
    "# set working directory to MarketGenerators folder\n",
    "# if you are working on LRZ servers, create the folder \"MarketGenerators\" and then specify something like\n",
    "path = \"/dss/dsshome1/02/YOUR_LRZ_USER_NAME/MarketGenerators\"\n",
    "os.chdir(path)"
   ]
  },
  {
   "cell_type": "code",
   "execution_count": null,
   "metadata": {},
   "outputs": [],
   "source": [
    "!pip install -r LiaoRequirements.txt"
   ]
  },
  {
   "cell_type": "code",
   "execution_count": null,
   "metadata": {},
   "outputs": [],
   "source": [
    "from LiaoWGAN import evaluate\n",
    "import argparse"
   ]
  },
  {
   "cell_type": "code",
   "execution_count": 3,
   "metadata": {},
   "outputs": [],
   "source": [
    "parser = argparse.ArgumentParser(description='Turn cuda off / on during evalution.')\n",
    "parser.add_argument('-base_dir', default='./numerical_results', type=str)\n",
    "# set to False if evaluation should be done on CPU\n",
    "parser.add_argument('-use_cuda', default=True, type=bool)\n",
    "# Specify the GPU to use (0 if only one is available)\n",
    "parser.add_argument('-device', default=0, type=int)#\n",
    "parser.add_argument('-datasets', default=[\n",
    "#     'ARCH',\n",
    "#     'STOCKS', \n",
    "#     'ECG', \n",
    "#     'VAR',\n",
    "    \"GBM\",\n",
    "    \"Kou_Jump_Diffusion\",\n",
    "#     \"YFinance\"\n",
    "], nargs=\"+\")\n",
    "parser.add_argument('-algos', default=['SigCWGAN', 'CWGAN', 'GMMN', 'RCGAN', 'TimeGAN', \n",
    "                                       #'RCWGAN', (RCWGAN is never used/explained in the paper)\n",
    "                                      ], nargs=\"+\")\n",
    "\n",
    "# Ignore unknown arguments\n",
    "args, unknown = parser.parse_known_args()"
   ]
  },
  {
   "cell_type": "code",
   "execution_count": null,
   "metadata": {},
   "outputs": [],
   "source": [
    "for nYearsIn in [\n",
    "    2, 3, 9, 10, 20, 50, 99, 100, 999, 1000, 10000\n",
    "    # 0\n",
    "    # 0 needed for YFinance data (do subsequently)\n",
    "]:\n",
    "    evaluate.evaluate_benchmarks(base_dir=args.base_dir, use_cuda=args.use_cuda, datasets=args.datasets, algos=args.algos, n_in=nYearsIn)"
   ]
  }
 ],
 "metadata": {
  "kernelspec": {
   "display_name": "Python 3",
   "language": "python",
   "name": "python3"
  },
  "language_info": {
   "codemirror_mode": {
    "name": "ipython",
    "version": 3
   },
   "file_extension": ".py",
   "mimetype": "text/x-python",
   "name": "python",
   "nbconvert_exporter": "python",
   "pygments_lexer": "ipython3",
   "version": "3.6.9"
  }
 },
 "nbformat": 4,
 "nbformat_minor": 2
}
