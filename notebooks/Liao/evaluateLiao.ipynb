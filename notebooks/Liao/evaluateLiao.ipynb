{
 "cells": [
  {
   "cell_type": "markdown",
   "metadata": {},
   "source": [
    "# Evaluate logic from Liao"
   ]
  },
  {
   "cell_type": "code",
   "execution_count": null,
   "metadata": {},
   "outputs": [],
   "source": [
    "from LiaoWGAN import evaluate\n",
    "import argparse\n",
    "\n",
    "parser = argparse.ArgumentParser(description='Turn cuda off / on during evalution.')\n",
    "parser.add_argument('-base_dir', default='./numerical_results_Liao', type=str)\n",
    "parser.add_argument('-use_cuda', action='store_true')\n",
    "parser.add_argument('-datasets', default=['ARCH', 'STOCKS', 'ECG', 'VAR', ], nargs=\"+\")\n",
    "parser.add_argument('-algos', default=['SigCWGAN', 'GMMN', 'RCGAN', 'TimeGAN', 'RCWGAN', ], nargs=\"+\")\n",
    "args = parser.parse_args()\n",
    "evaluate.evaluate_benchmarks(base_dir=args.base_dir, use_cuda=args.use_cuda, datasets=args.datasets, algos=args.algos)"
   ]
  }
 ],
 "metadata": {
  "language_info": {
   "name": "python"
  }
 },
 "nbformat": 4,
 "nbformat_minor": 2
}
