{
 "cells": [
  {
   "cell_type": "code",
   "execution_count": 1,
   "metadata": {},
   "outputs": [
    {
     "name": "stdout",
     "output_type": "stream",
     "text": [
      "Collecting joblib==0.15.1\n",
      "  Using cached https://files.pythonhosted.org/packages/b8/a6/d1a816b89aa1e9e96bcb298eb1ee1854f21662ebc6d55ffa3d7b3b50122b/joblib-0.15.1-py3-none-any.whl\n",
      "Collecting scikit-learn==0.23.1\n",
      "  Using cached https://files.pythonhosted.org/packages/d9/3a/eb8d7bbe28f4787d140bb9df685b7d5bf6115c0e2a969def4027144e98b6/scikit_learn-0.23.1-cp36-cp36m-manylinux1_x86_64.whl\n",
      "Collecting scipy==1.4.1\n",
      "  Using cached https://files.pythonhosted.org/packages/dc/29/162476fd44203116e7980cfbd9352eef9db37c49445d1fec35509022f6aa/scipy-1.4.1-cp36-cp36m-manylinux1_x86_64.whl\n",
      "Collecting threadpoolctl==2.1.0\n",
      "  Using cached https://files.pythonhosted.org/packages/f7/12/ec3f2e203afa394a149911729357aa48affc59c20e2c1c8297a60f33f133/threadpoolctl-2.1.0-py3-none-any.whl\n",
      "Collecting torch==1.8.1\n",
      "  Using cached https://files.pythonhosted.org/packages/dd/b9/824df420f6abf551e41bbaacbaa0be8321dc104f9f3803051513844dc310/torch-1.8.1-cp36-cp36m-manylinux1_x86_64.whl\n",
      "^C\n",
      "\u001b[31mERROR: Operation cancelled by user\u001b[0m\n"
     ]
    }
   ],
   "source": [
    "import os\n",
    "os.chdir(\"/dss/dsshome1/02/ge85rik2/MarketGenerators\")\n",
    "!pip install --force-reinstall -r LiaoRequirements.txt"
   ]
  },
  {
   "cell_type": "code",
   "execution_count": 2,
   "metadata": {},
   "outputs": [],
   "source": [
    "import itertools\n",
    "import os\n",
    "from os import path as pt\n",
    "\n",
    "import matplotlib.pyplot as plt\n",
    "import numpy as np\n",
    "import torch\n",
    "from sklearn.model_selection import train_test_split\n",
    "\n",
    "from LiaoWGAN.hyperparameters import SIGCWGAN_CONFIGS\n",
    "from LiaoWGAN.lib import ALGOS\n",
    "from LiaoWGAN.lib.algos.base import BaseConfig\n",
    "from LiaoWGAN.lib.data import download_man_ahl_dataset, download_mit_ecg_dataset\n",
    "from LiaoWGAN.lib.data import get_data\n",
    "from LiaoWGAN.lib.plot import savefig, create_summary\n",
    "from LiaoWGAN.lib.utils import pickle_it"
   ]
  },
  {
   "cell_type": "code",
   "execution_count": null,
   "metadata": {},
   "outputs": [
    {
     "name": "stderr",
     "output_type": "stream",
     "text": [
      "  0%|                                                  | 0/1000 [00:00<?, ?it/s]"
     ]
    },
    {
     "name": "stdout",
     "output_type": "stream",
     "text": [
      "Start of training. CUDA: False\n",
      "Executing: SigCWGAN, GBM, mu=0.05_sigma=0.2\n"
     ]
    },
    {
     "name": "stderr",
     "output_type": "stream",
     "text": [
      "100%|███████████████████████████████████████| 1000/1000 [14:41<00:00,  1.13it/s]\n"
     ]
    }
   ],
   "source": [
    "import LiaoWGAN.train as train\n",
    "import argparse\n",
    "\n",
    "n_out = 252*100000\n",
    "nYearsIn=10\n",
    "\n",
    "parser = argparse.ArgumentParser()\n",
    "# Meta parameters\n",
    "parser.add_argument('-base_dir', default='./numerical_results_Liao', type=str)\n",
    "parser.add_argument('-use_cuda', action='store_true')\n",
    "parser.add_argument('-device', default=1, type=int)\n",
    "parser.add_argument('-num_seeds', default=1, type=int)\n",
    "parser.add_argument('-initial_seed', default=42, type=int)\n",
    "#parser.add_argument('-datasets', default=['ARCH', 'STOCKS', 'ECG', 'VAR', ], nargs=\"+\")\n",
    "parser.add_argument(\n",
    "    '-datasets', \n",
    "    default=[\n",
    "        # 'STOCKS', \n",
    "#         'ARCH',\n",
    "        'GBM', \n",
    "        'Kou_Jump_Diffusion',\n",
    "        ], nargs=\"+\"\n",
    ")\n",
    "parser.add_argument('-algos', default=['SigCWGAN', 'GMMN', 'RCGAN', 'TimeGAN', 'RCWGAN', 'CWGAN',], nargs=\"+\")\n",
    "\n",
    "\n",
    "# Algo hyperparameters\n",
    "parser.add_argument('-batch_size', default=200, type=int)\n",
    "parser.add_argument('-p', default=3, type=int)\n",
    "parser.add_argument('-q', default=3, type=int)\n",
    "parser.add_argument('-hidden_dims', default=3 * (50,), type=tuple)\n",
    "parser.add_argument('-total_steps', default=1000, type=int)\n",
    "parser.add_argument('-mc_samples', default=1000, type=int)\n",
    "\n",
    "# Ignore unknown arguments\n",
    "args, unknown = parser.parse_known_args()\n",
    "# args = parser.parse_args()\n",
    "train.main(args, nYearsInOwn=nYearsIn, n_out=n_out)"
   ]
  }
 ],
 "metadata": {
  "kernelspec": {
   "display_name": "Python 3",
   "language": "python",
   "name": "python3"
  },
  "language_info": {
   "codemirror_mode": {
    "name": "ipython",
    "version": 3
   },
   "file_extension": ".py",
   "mimetype": "text/x-python",
   "name": "python",
   "nbconvert_exporter": "python",
   "pygments_lexer": "ipython3",
   "version": "3.6.9"
  }
 },
 "nbformat": 4,
 "nbformat_minor": 2
}
