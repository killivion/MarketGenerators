{
 "cells": [
  {
   "cell_type": "markdown",
   "metadata": {},
   "source": [
    "# Run all models from Liao Paper"
   ]
  },
  {
   "cell_type": "code",
   "execution_count": null,
   "metadata": {},
   "outputs": [],
   "source": [
    "import os\n",
    "# set working directory to MarketGenerators folder\n",
    "# if you are working on LRZ servers, create the folder \"MarketGenerators\" and then specify something like\n",
    "path = \"/dss/dsshome1/02/YOUR_LRZ_USER_NAME/MarketGenerators\"\n",
    "os.chdir(path)"
   ]
  },
  {
   "cell_type": "code",
   "execution_count": null,
   "metadata": {},
   "outputs": [],
   "source": [
    "!pip install -r LiaoRequirements.txt"
   ]
  },
  {
   "cell_type": "code",
   "execution_count": null,
   "metadata": {},
   "outputs": [],
   "source": [
    "import LiaoWGAN.train as train\n",
    "import argparse\n",
    "\n",
    "# Number of daily log-returns to output\n",
    "n_out = 252*100000\n",
    "# Set nYearsIn to 0 for YFinance dataset\n",
    "nYearsIn=10\n",
    "\n",
    "parser = argparse.ArgumentParser()\n",
    "# Meta parameters\n",
    "parser.add_argument('-base_dir', default='./numerical_results', type=str)\n",
    "parser.add_argument('-use_cuda', type=bool, default=True)\n",
    "# Specify the GPU to use\n",
    "parser.add_argument('-device', default=0, type=int)\n",
    "# For retraining, increase number of seeds\n",
    "parser.add_argument('-num_seeds', default=1, type=int)\n",
    "parser.add_argument('-initial_seed', default=42, type=int)\n",
    "parser.add_argument(\n",
    "    '-datasets', \n",
    "    default=[\n",
    "        # 'STOCKS', \n",
    "#         'ARCH',\n",
    "        'GBM', \n",
    "        'Kou_Jump_Diffusion',\n",
    "        # 'YFinance',\n",
    "        ], nargs=\"+\"\n",
    ")\n",
    "parser.add_argument('-algos', default=['SigCWGAN', 'GMMN', 'RCGAN', 'TimeGAN', 'CWGAN',], nargs=\"+\")\n",
    "\n",
    "\n",
    "# Algo hyperparameters\n",
    "parser.add_argument('-batch_size', default=200, type=int)\n",
    "parser.add_argument('-p', default=3, type=int)\n",
    "parser.add_argument('-q', default=3, type=int)\n",
    "parser.add_argument('-hidden_dims', default=3 * (50,), type=tuple)\n",
    "parser.add_argument('-total_steps', default=1000, type=int)\n",
    "parser.add_argument('-mc_samples', default=1000, type=int)\n",
    "\n",
    "# Ignore unknown arguments\n",
    "args, unknown = parser.parse_known_args()\n",
    "train.main(args, nYearsInOwn=nYearsIn, n_out=n_out)"
   ]
  }
 ],
 "metadata": {
  "kernelspec": {
   "display_name": "Python 3",
   "language": "python",
   "name": "python3"
  },
  "language_info": {
   "codemirror_mode": {
    "name": "ipython",
    "version": 3
   },
   "file_extension": ".py",
   "mimetype": "text/x-python",
   "name": "python",
   "nbconvert_exporter": "python",
   "pygments_lexer": "ipython3",
   "version": "3.6.9"
  }
 },
 "nbformat": 4,
 "nbformat_minor": 2
}
