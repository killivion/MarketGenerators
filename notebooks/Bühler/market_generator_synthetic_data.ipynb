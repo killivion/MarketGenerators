{
 "cells": [
  {
   "cell_type": "markdown",
   "metadata": {},
   "source": [
    "# Market generator Bühler - Synthetic Data"
   ]
  },
  {
   "cell_type": "code",
   "execution_count": 1,
   "metadata": {},
   "outputs": [],
   "source": [
    "import os\n",
    "# set working directory to MarketGenerators folder\n",
    "# if you are working on LRZ servers, create the folder \"MarketGenerators\" and then specify something like\n",
    "# Use \"nvcr.io#nvidia/tensorflow:20.03-tf1-py3\" container for cloud computing\n",
    "path = \"/dss/dsshome1/02/YOUR_LRZ_USER_NAME/MarketGenerators\"\n",
    "os.chdir(path)"
   ]
  },
  {
   "cell_type": "code",
   "execution_count": null,
   "metadata": {},
   "outputs": [],
   "source": [
    "!pip install -r requirements_buehler.txt"
   ]
  },
  {
   "cell_type": "code",
   "execution_count": 3,
   "metadata": {},
   "outputs": [],
   "source": [
    "from tqdm import tqdm\n",
    "import matplotlib.pyplot as plt\n",
    "import numpy as np\n",
    "\n",
    "import BuehlerVAE.src.market_generator as market_generator\n",
    "from BuehlerVAE.src.utils import tosig\n",
    "import BuehlerVAE.src.process_discriminator as process_discriminator\n"
   ]
  },
  {
   "cell_type": "markdown",
   "metadata": {},
   "source": [
    "## Server computing part"
   ]
  },
  {
   "cell_type": "code",
   "execution_count": null,
   "metadata": {},
   "outputs": [],
   "source": [
    "# Turn interactive plotting off\n",
    "plt.ioff()\n",
    "\n",
    "# Signature order\n",
    "def run_buehler_pipeline(n_years_in, n_years_out):\n",
    "    ticker = \"^GSPC\"\n",
    "    seed = 42\n",
    "    order = 4\n",
    "    method = \"GBM\"\n",
    "    freq = \"M\"\n",
    "    mu = 0.05\n",
    "    sigma = 0.2\n",
    "    n_in = n_years_in * 12 if freq == \"M\" else n_years_in\n",
    "    n_out = n_years_out * 12 if freq == \"M\" else n_years_out\n",
    "    params = {\n",
    "        \"S0\": 1., \n",
    "        \"mu\": mu,\n",
    "        \"sigma\": sigma, \n",
    "        \"n\": n_in + 1\n",
    "    }\n",
    "    print(f\"Currently at {n_in}{freq} training and {n_out}{freq} generation\")\n",
    "    \n",
    "    values = {k: v for k, v in params.items() if k not in ['S0', 'n', 'n_points', 'T']}.values()\n",
    "    values_str = [str(value).replace('.', ',') for value in values]\n",
    "    model_spec = '_'.join(values_str)\n",
    "    name_string = f\"_{method}_{n_in}_{n_out}_{freq}_{model_spec}_seed{seed}\"\n",
    "    MG = market_generator.MarketGenerator(ticker, freq=freq, sig_order=order, own_params=params, method=method, seed=seed)\n",
    "    \n",
    "    # plot input paths and save to plots_buehler folder\n",
    "    fig = plt.figure(figsize=(18, 10))\n",
    "    plt.rcParams.update({'font.size': 22})\n",
    "    for path in MG.windows:\n",
    "        returns = path[::2, 1]\n",
    "        plt.plot(returns, \"b\", alpha=0.1)\n",
    "\n",
    "    plt.title(\"Paths\")\n",
    "    plt.xlabel(\"Days\")\n",
    "    plt.savefig(f\"plots_buehler/input_paths{name_string}\")\n",
    "    plt.close(fig)\n",
    "\n",
    "    # train model \n",
    "    MG.train(n_epochs=10000)\n",
    "    \n",
    "    # generate new paths with same format\n",
    "    params_out = params\n",
    "    params_out['n'] = n_out + 1\n",
    "    MG_out = market_generator.MarketGenerator(ticker, freq=freq, sig_order=order, own_params=params_out, method=method, seed=seed + 1)\n",
    "    \n",
    "    # generated\n",
    "    normalised_generated = np.array([MG.generate(cond, normalised=True) for cond in MG_out.conditions])\n",
    "    generated = np.array([MG.generate(cond) for cond in MG_out.conditions])\n",
    "    sigs1 = np.array([tosig.logsig2sig(logsig, 2, order) for logsig in tqdm(normalised_generated)])\n",
    "    \n",
    "    # new seed here, i.e. \"out of sample\" test\n",
    "    MG.seed = 43\n",
    "    MG._load_own_data(params, method)\n",
    "    MG.orig_logsig = np.array([MG._logsig(path) for path in MG.windows])\n",
    "    sigs2 = np.array([tosig.logsig2sig(logsig, 2, order) for logsig in tqdm(MG.scaler.transform(MG.orig_logsig[1:]))])\n",
    "    \n",
    "    # compute test statistic\n",
    "    test_stat = process_discriminator.T(set1=sigs1, set2=sigs2, order=order, compute_sigs=False, verbose=False)\n",
    "\n",
    "    K = 1.    \n",
    "    with open(f\"buehler_output/sigSummary{name_string}.txt\", \"w\") as text_file:\n",
    "        # write test statistic to file\n",
    "        text_file.write(f'confidence level = {np.exp(-test_stat**2/16*len(sigs1))*100:.4f}%\\n' + \n",
    "            f'confidence level (other metric) = {np.exp(-(np.sqrt(len(sigs1)/(2*K)*test_stat)-1)**2/2)*100:.4f}%'\n",
    "        )\n",
    "    \n",
    "    # save generated signatures\n",
    "    np.save(f\"buehler_output/sigs_generated{name_string}.npy\", generated)\n",
    "    return"
   ]
  },
  {
   "cell_type": "code",
   "execution_count": null,
   "metadata": {},
   "outputs": [],
   "source": [
    "# specify number of training years and output years\n",
    "for n_years_train in [10, 100, 1000, 10000, 3]:\n",
    "    for n_generate in [3, 10, 100, 1000, 10000]:\n",
    "        run_buehler_pipeline(n_years_train, n_generate)"
   ]
  }
 ],
 "metadata": {
  "kernelspec": {
   "display_name": "Python 3",
   "language": "python",
   "name": "python3"
  },
  "language_info": {
   "codemirror_mode": {
    "name": "ipython",
    "version": 3
   },
   "file_extension": ".py",
   "mimetype": "text/x-python",
   "name": "python",
   "nbconvert_exporter": "python",
   "pygments_lexer": "ipython3",
   "version": "3.6.9"
  }
 },
 "nbformat": 4,
 "nbformat_minor": 2
}
