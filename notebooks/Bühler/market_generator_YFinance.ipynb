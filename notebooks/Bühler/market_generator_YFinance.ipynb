{
 "cells": [
  {
   "cell_type": "markdown",
   "metadata": {},
   "source": [
    "# Market generator Bühler - Yahoo Finance Data"
   ]
  },
  {
   "cell_type": "code",
   "execution_count": 1,
   "metadata": {},
   "outputs": [],
   "source": [
    "import os\n",
    "# Set working directory to MarketGenerators folder\n",
    "# If you are working on LRZ servers, create the folder \"MarketGenerators\" and then specify something like\n",
    "# Use \"nvcr.io#nvidia/tensorflow:20.03-tf1-py3\" container for cloud computing\n",
    "path = \"/dss/dsshome1/02/YOUR_LRZ_USER_NAME/MarketGenerators\"\n",
    "os.chdir(path)"
   ]
  },
  {
   "cell_type": "code",
   "execution_count": null,
   "metadata": {},
   "outputs": [],
   "source": [
    "!pip install -r requirements_buehler.txt"
   ]
  },
  {
   "cell_type": "code",
   "execution_count": 3,
   "metadata": {},
   "outputs": [],
   "source": [
    "from tqdm import tqdm\n",
    "import matplotlib.pyplot as plt\n",
    "import numpy as np\n",
    "\n",
    "import BuehlerVAE.src.market_generator as market_generator\n",
    "from BuehlerVAE.src.utils import tosig\n",
    "import BuehlerVAE.src.process_discriminator as process_discriminator"
   ]
  },
  {
   "cell_type": "markdown",
   "metadata": {},
   "source": [
    "## Server computing part"
   ]
  },
  {
   "cell_type": "code",
   "execution_count": null,
   "metadata": {},
   "outputs": [],
   "source": [
    "# Turn interactive plotting off\n",
    "plt.ioff()\n",
    "def run_buehler_pipeline(start, end, n_years_out):\n",
    "    import BuehlerVAE.src.process_discriminator as process_discriminator\n",
    "    ticker = \"^GSPC\"\n",
    "    # Signature truncation order\n",
    "    order = 4\n",
    "    seed = 42\n",
    "    method = \"YFinance\"\n",
    "    freq = \"M\"\n",
    "    n_out = n_years_out * 12 if freq == \"M\" else n_years_out\n",
    "    params = {\n",
    "        \"S0\": 1.,\n",
    "        \"ticker\": \"^GSPC\",\n",
    "        \"start\": start,\n",
    "        \"end\": end\n",
    "    }\n",
    "\n",
    "    values = {k: v for k, v in params.items() if k not in ['S0', 'n', 'n_points', 'T']}.values()\n",
    "    values_str = [str(value).replace('.', ',') for value in values]\n",
    "    model_spec = '_'.join(values_str)\n",
    "    name_string = f\"_{method}_{model_spec}\"\n",
    "    MG = market_generator.MarketGenerator(ticker, freq=freq, sig_order=order, own_params=params, method=method, seed=seed)\n",
    "\n",
    "    # Plot input paths and save to plots_buehler folder\n",
    "    fig = plt.figure(figsize=(18, 10))\n",
    "    plt.rcParams.update({'font.size': 22})\n",
    "    for path in MG.windows:\n",
    "        returns = path[::2, 1]\n",
    "        plt.plot(returns, \"b\", alpha=0.1)\n",
    "\n",
    "    plt.title(\"Paths\")\n",
    "    plt.xlabel(\"Days\")\n",
    "    plt.savefig(f\"plots_buehler/input_paths{name_string}\")\n",
    "    plt.close(fig)\n",
    "\n",
    "    # Train model\n",
    "    MG.train(n_epochs=10000)\n",
    "\n",
    "    # Generate new paths with same format\n",
    "    params_out = params\n",
    "    MG_out = market_generator.MarketGenerator(ticker, freq=freq, sig_order=order, own_params=params_out, method=method)\n",
    "\n",
    "    # Generated\n",
    "    normalised_generated = np.array([MG.generate(cond, normalised=True) for cond in MG_out.conditions])\n",
    "    # Change 8 here if sig order changes! (Make flexible in future)\n",
    "    generated = np.empty((0, 8))\n",
    "    # First generate based on existing data\n",
    "    for cond in MG_out.conditions[:-1]:\n",
    "        generated = np.append(generated, MG.generate(cond).reshape(1, -1), axis=0)\n",
    "\n",
    "    scaled_gen = MG_out.conditions[-1]\n",
    "    for _ in range(n_out - MG_out.conditions.shape[0] + 1):\n",
    "        scaled_gen = MG.generate(scaled_gen, normalised=True)\n",
    "        generated = np.append(generated, MG.scaler.inverse_transform(scaled_gen.reshape(1, -1))[0].reshape(1, -1), axis=0)\n",
    "    sigs1 = np.array([tosig.logsig2sig(logsig, 2, order) for logsig in tqdm(normalised_generated)])\n",
    "    # New seed here, i.e. \"out of sample\" test\n",
    "    MG._load_own_data(params, method)\n",
    "    MG.orig_logsig = np.array([MG._logsig(path) for path in MG.windows])\n",
    "    sigs2 = np.array([tosig.logsig2sig(logsig, 2, order) for logsig in tqdm(MG.scaler.transform(MG.orig_logsig[1:]))])\n",
    "\n",
    "    test_stat = process_discriminator.T(set1=sigs1, set2=sigs2, order=order, compute_sigs=False, verbose=False)\n",
    "\n",
    "    K = 1.\n",
    "\n",
    "    with open(f\"buehler_output_new/sigSummary{name_string}.txt\", \"w\") as text_file:\n",
    "        text_file.write(f'confidence level = {np.exp(-test_stat**2/16*len(sigs1))*100:.4f}%\\n' +\n",
    "                        f'confidence level (other metric) = {np.exp(-(np.sqrt(len(sigs1)/(2*K)*test_stat)-1)**2/2)*100:.4f}%'\n",
    "                        )\n",
    "    print(f\"Saving file 'buehler_output_new/sigs_generated{name_string}.npy'...\")\n",
    "    np.save(f\"buehler_output_new/sigs_generated{name_string}.npy\", generated)\n",
    "    return"
   ]
  },
  {
   "cell_type": "code",
   "execution_count": null,
   "metadata": {},
   "outputs": [],
   "source": [
    "for start in [\n",
    "    \"1999-07-01\", \"2004-07-01\", \"2009-07-01\", \"2014-07-01\",\n",
    "    \"2019-07-01\", \"2021-07-01\", \"2022-07-01\"\n",
    "]:\n",
    "    for end in [\"2024-06-30\"]:\n",
    "        for n_years_out in [1000]:\n",
    "            run_buehler_pipeline(start, end, n_years_out)"
   ]
  }
 ],
 "metadata": {
  "kernelspec": {
   "display_name": "Python 3",
   "language": "python",
   "name": "python3"
  },
  "language_info": {
   "codemirror_mode": {
    "name": "ipython",
    "version": 3
   },
   "file_extension": ".py",
   "mimetype": "text/x-python",
   "name": "python",
   "nbconvert_exporter": "python",
   "pygments_lexer": "ipython3",
   "version": "3.6.9"
  }
 },
 "nbformat": 4,
 "nbformat_minor": 2
}
