{
 "cells": [
  {
   "cell_type": "markdown",
   "metadata": {},
   "source": [
    "# Market generator Bühler - Synthetic Data"
   ]
  },
  {
   "cell_type": "code",
   "execution_count": 1,
   "metadata": {},
   "outputs": [],
   "source": [
    "import os\n",
    "# set working directory to MarketGenerators folder\n",
    "# if you are working on LRZ servers, create the folder \"MarketGenerators\" and then specify something like\n",
    "path = \"/dss/dsshome1/02/YOUR_LRZ_USER_NAME/MarketGenerators\"\n",
    "os.chdir(path)"
   ]
  },
  {
   "cell_type": "code",
   "execution_count": null,
   "metadata": {},
   "outputs": [],
   "source": [
    "!pip install esig\n",
    "!pip install tqdm "
   ]
  },
  {
   "cell_type": "code",
   "execution_count": null,
   "metadata": {},
   "outputs": [],
   "source": [
    "import BuehlerVAE.src.logsig_inversion as logsig_inversion\n",
    "import numpy as np"
   ]
  },
  {
   "cell_type": "markdown",
   "metadata": {},
   "source": [
    "## Invert log-signature"
   ]
  },
  {
   "cell_type": "markdown",
   "metadata": {},
   "source": [
    "### Choose Model Specifications"
   ]
  },
  {
   "cell_type": "code",
   "execution_count": 4,
   "metadata": {},
   "outputs": [],
   "source": [
    "freq = \"M\"\n",
    "order = 4\n",
    "method = \"Kou_Jump_Diffusion\"\n",
    "n_years_in_list = [100]\n",
    "n_years_out = 1000\n",
    "seed = 42\n",
    "# specify the parameters of the model\n",
    "params = {\n",
    "    \"mu\": 0.12, \n",
    "    \"sigma\": 0.2, \n",
    "    \"lambda\": 2.0, \n",
    "    \"p\": 0.3, \n",
    "    \"eta1\": 50., \n",
    "    \"eta2\": 25.\n",
    "}\n",
    "spec_folder_name = \"_\".join(f\"{key}={params[key]}\" for key in params)\n",
    "# determine how frequently back-up savings are made\n",
    "save_every_n = 120 if freq == \"M\" else 10\n",
    "\n",
    "n_out = n_years_out*12 if freq == \"M\" else n_years_out\n",
    "params[\"S0\"] = 1.\n",
    "values={k: v for k, v in params.items() if k not in ['S0', 'n', 'n_points', 'T']}.values()\n",
    "values_str=[str(value).replace('.',',') for value in values]\n",
    "model_spec = '_'.join(values_str)"
   ]
  },
  {
   "cell_type": "code",
   "execution_count": null,
   "metadata": {},
   "outputs": [],
   "source": [
    "# Specify the parameters for Breed and Mutate algorithm\n",
    "pip = 0.001 if freq == \"M\" else 0.0001\n",
    "n_pips = 50 if freq == \"M\" else 100\n",
    "n_points = 22 if freq == \"M\" else 253\n",
    "n_iterations = 100 if freq == \"M\" else 100\n",
    "n_organisms = 400 if freq == \"M\" else 150"
   ]
  },
  {
   "cell_type": "code",
   "execution_count": null,
   "metadata": {},
   "outputs": [],
   "source": [
    "for n_years_in in n_years_in_list:\n",
    "    n_in = n_years_in*12 if freq == \"M\" else n_years_in\n",
    "    params[\"n\"] = n_in\n",
    "    name_string = f\"_{method}_{n_in}_{n_out}_{freq}_{model_spec}_seed{seed}\"\n",
    "\n",
    "    recovered_paths = []\n",
    "    generated_log_sigs= np.load(f\"buehler_output/sigs_generated{name_string}.npy\")\n",
    "    save_dir = f\"numerical_results/{method}/{spec_folder_name}/n-in={n_years_in}Y/seed={seed}/CVAE\"\n",
    "    if not os.path.exists(save_dir):\n",
    "        os.makedirs(save_dir)\n",
    "    file_name = f\"{save_dir}/generated_returns_rescaled.npy\"\n",
    "    if os.path.exists(file_name):\n",
    "        recovered_returns_np = np.load(file_name)\n",
    "    else:\n",
    "        recovered_returns_np = np.array([],ndmin=1)\n",
    "\n",
    "    # shorten generated log sig such that only uncalculated ones are converted\n",
    "    start_index = recovered_returns_np.shape[0] // (n_points-1)\n",
    "    untransformed_generated_log_sigs = generated_log_sigs[start_index:,:]\n",
    "    n_iter = untransformed_generated_log_sigs.shape[0]\n",
    "    print(f\"Total number of iterations left: {n_iter}\")\n",
    "    for i, logsig in enumerate(untransformed_generated_log_sigs):\n",
    "        recovered_path, loss = logsig_inversion.train(logsig, order, n_iterations, n_organisms, n_points,\n",
    "                                                      pip, n_pips)\n",
    "        recovered_path += 1\n",
    "        recovered_return_np = np.diff(np.log(recovered_path))\n",
    "        recovered_returns_np = np.append(recovered_returns_np, recovered_return_np)\n",
    "        if i % save_every_n == (save_every_n-1):\n",
    "            # back-up saves\n",
    "            np.save(f\"{save_dir}/generated_returns_rescaled.npy\", recovered_returns_np)\n",
    "            print(f\"Iteration {i+1}/{n_iter} done and {recovered_returns_np.shape[0]} returns saved.\")                \n",
    "    if i > -1:\n",
    "        np.save(f\"{save_dir}/generated_returns_rescaled.npy\", recovered_returns_np)\n",
    "        print(f\"Last iteration done and {recovered_returns_np.shape[0]} returns saved.\")"
   ]
  }
 ],
 "metadata": {
  "kernelspec": {
   "display_name": "Python 3",
   "language": "python",
   "name": "python3"
  },
  "language_info": {
   "codemirror_mode": {
    "name": "ipython",
    "version": 3
   },
   "file_extension": ".py",
   "mimetype": "text/x-python",
   "name": "python",
   "nbconvert_exporter": "python",
   "pygments_lexer": "ipython3",
   "version": "3.6.9"
  }
 },
 "nbformat": 4,
 "nbformat_minor": 2
}
