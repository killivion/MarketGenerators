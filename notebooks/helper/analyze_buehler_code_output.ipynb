{
 "cells": [
  {
   "cell_type": "markdown",
   "metadata": {},
   "source": [
    "# Import txt output from Buehler code"
   ]
  },
  {
   "cell_type": "code",
   "execution_count": 1,
   "metadata": {},
   "outputs": [
    {
     "name": "stdout",
     "output_type": "stream",
     "text": [
      "Requirement already satisfied: xlsxwriter in c:\\users\\peter\\onedrive - tum\\master tum\\masterarbeit\\marketgenerators\\.venv\\lib\\site-packages (3.2.0)\n"
     ]
    }
   ],
   "source": [
    "!pip install xlsxwriter"
   ]
  },
  {
   "cell_type": "code",
   "execution_count": 2,
   "metadata": {},
   "outputs": [],
   "source": [
    "import os \n",
    "import glob\n",
    "import pandas as pd\n",
    "\n",
    "# Specify the directory\n",
    "current_path = os.getcwd()\n",
    "directory_path = current_path + '\\\\buehler_output'\n",
    "\n",
    "# Use glob to find all .txt files in the directory\n",
    "txt_files = glob.glob(os.path.join(directory_path, '*.txt'))"
   ]
  },
  {
   "cell_type": "code",
   "execution_count": 8,
   "metadata": {},
   "outputs": [
    {
     "name": "stdout",
     "output_type": "stream",
     "text": [
      "{100000: {100000: 0.917912, 10000: 0.999921, 1000: 0.999777, 100: 0.998949, 10: 0.999922}, 10000: {100000: 0.966019, 10000: 0.999846, 1000: 0.999957, 100: 0.999422, 10: 0.998781}, 1000: {100000: 0.990544, 10000: 0.99971, 1000: 0.999828, 100: 0.999293, 10: 0.989098}, 100: {100000: 0.945937, 10000: 0.936027, 1000: 0.995253, 100: 0.99299, 10: 0.999084}, 10: {100000: 0.0, 10000: 0.0, 1000: 0.000215, 100: 0.000992, 10: 0.108333}}\n",
      "          10        100       1000      10000     100000\n",
      "10      0.108333  0.000992  0.000215  0.000000  0.000000\n",
      "100     0.999084  0.992990  0.995253  0.936027  0.945937\n",
      "1000    0.989098  0.999293  0.999828  0.999710  0.990544\n",
      "10000   0.998781  0.999422  0.999957  0.999846  0.966019\n",
      "100000  0.999922  0.998949  0.999777  0.999921  0.917912\n",
      "{100000: {100000: 0.994339, 10000: 0.999906, 1000: 0.999868, 100: 0.999995, 10: 0.99943}, 10000: {100000: 0.999295, 10000: 0.999817, 1000: 0.99998, 100: 0.999967, 10: 0.999841}, 1000: {100000: 0.939121, 10000: 0.998498, 1000: 0.999456, 100: 0.999757, 10: 0.999781}, 100: {100000: 0.0, 10000: 1e-06, 1000: 0.75514, 100: 0.895567, 10: 0.389209}, 10: {100000: 0.0, 10000: 0.0, 1000: 0.00046, 100: 0.354561, 10: 0.134457}}\n",
      "          10        100       1000      10000     100000\n",
      "10      0.134457  0.354561  0.000460  0.000000  0.000000\n",
      "100     0.389209  0.895567  0.755140  0.000001  0.000000\n",
      "1000    0.999781  0.999757  0.999456  0.998498  0.939121\n",
      "10000   0.999841  0.999967  0.999980  0.999817  0.999295\n",
      "100000  0.999430  0.999995  0.999868  0.999906  0.994339\n",
      "{100000: {100000: 0.994073, 10000: 0.9998, 1000: 0.999989, 100: 0.999947, 10: 0.999988}, 10000: {100000: 0.960543, 10000: 0.999991, 1000: 0.999998, 100: 0.999981, 10: 0.999948}, 1000: {100000: 0.974267, 10000: 0.998094, 1000: 0.999568, 100: 0.997975, 10: 0.999213}, 100: {100000: 0.875874, 10000: 0.932357, 1000: 0.869982, 100: 0.963807, 10: 0.992608}, 10: {100000: 0.0, 10000: 0.0, 1000: 0.039692, 100: 0.055015, 10: 0.054273}}\n",
      "          10        100       1000      10000     100000\n",
      "10      0.054273  0.055015  0.039692  0.000000  0.000000\n",
      "100     0.992608  0.963807  0.869982  0.932357  0.875874\n",
      "1000    0.999213  0.997975  0.999568  0.998094  0.974267\n",
      "10000   0.999948  0.999981  0.999998  0.999991  0.960543\n",
      "100000  0.999988  0.999947  0.999989  0.999800  0.994073\n"
     ]
    }
   ],
   "source": [
    "identifiers = [\n",
    "    \"0,2\", \n",
    "    \"10,0\",\n",
    "    \"25,0\"\n",
    "]\n",
    "with pd.ExcelWriter(current_path + '/metrics.xlsx', engine='xlsxwriter') as writer:\n",
    "    for identifier in identifiers:\n",
    "        # Initialize dictionaries to store metrics\n",
    "        metric1_data = {}\n",
    "        metric2_data = {}\n",
    "        count = 0\n",
    "        # Loop through the list of .txt files\n",
    "        for txt_file in txt_files:\n",
    "            specification = txt_file.split('\\\\')[-1].split(\"_\")[1:]\n",
    "            if specification[-2] != identifier:\n",
    "                continue\n",
    "            if specification[0] == 'GBM':\n",
    "                start_index = 0\n",
    "            elif specification[0] == 'Kou':\n",
    "                start_index = 2\n",
    "            else: \n",
    "                continue\n",
    "            count += 1\n",
    "            # Open and read the file\n",
    "            with open(txt_file, 'r') as file:\n",
    "                content = file.read()\n",
    "                metric_strings = content.split('\\n')\n",
    "\n",
    "                n_in = int(specification[1+start_index])\n",
    "                n_out = int(specification[2+start_index])\n",
    "                metric1 = metric_strings[0].split('=')[1][1:-1]\n",
    "                metric1 = round(float(metric1)/100,6)\n",
    "                metric2 = metric_strings[1].split('=')[1][1:-1]\n",
    "                metric2 = round(float(metric2)/100,6)\n",
    "                \n",
    "                # Add data to dictionaries\n",
    "                if n_in not in metric1_data:\n",
    "                    metric1_data[n_in] = {}\n",
    "                if n_in not in metric2_data:\n",
    "                    metric2_data[n_in] = {}\n",
    "                    \n",
    "                metric1_data[n_in][n_out] = metric1\n",
    "                metric2_data[n_in][n_out] = metric2\n",
    "\n",
    "                if count == 25:\n",
    "                    # Create DataFrames from the dictionaries\n",
    "                    metric1_df = pd.DataFrame.from_dict(metric1_data, orient='index').sort_index(axis=0).sort_index(axis=1)\n",
    "                    metric2_df = pd.DataFrame.from_dict(metric2_data, orient='index').sort_index(axis=0).sort_index(axis=1)\n",
    "                    print(metric1_data)\n",
    "                    print(metric1_df)\n",
    "                    # Export the DataFrames to different sheets in the same Excel file\n",
    "                    metric1_df.to_excel(writer, sheet_name=f'metric1_{specification[0]+identifier}', index=True)\n",
    "                    metric2_df.to_excel(writer, sheet_name=f'metric2_{specification[0]+identifier}', index=True)\n",
    "                    # print(metric1_df)\n",
    "                    # print(metric2_df)\n",
    "                    # Reset dictionaries to store metrics\n",
    "                    metric1_data = {}\n",
    "                    metric2_data = {}\n",
    "                    count = 0"
   ]
  }
 ],
 "metadata": {
  "kernelspec": {
   "display_name": ".venv",
   "language": "python",
   "name": "python3"
  },
  "language_info": {
   "codemirror_mode": {
    "name": "ipython",
    "version": 3
   },
   "file_extension": ".py",
   "mimetype": "text/x-python",
   "name": "python",
   "nbconvert_exporter": "python",
   "pygments_lexer": "ipython3",
   "version": "3.7.9"
  }
 },
 "nbformat": 4,
 "nbformat_minor": 2
}
