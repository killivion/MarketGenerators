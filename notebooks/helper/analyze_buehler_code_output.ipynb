{
 "cells": [
  {
   "cell_type": "markdown",
   "metadata": {},
   "source": [
    "# Import txt output from Buehler code"
   ]
  },
  {
   "cell_type": "code",
   "execution_count": null,
   "metadata": {},
   "outputs": [],
   "source": [
    "!pip install xlsxwriter"
   ]
  },
  {
   "cell_type": "code",
   "execution_count": null,
   "metadata": {},
   "outputs": [],
   "source": [
    "import os \n",
    "import glob\n",
    "import pandas as pd"
   ]
  },
  {
   "cell_type": "code",
   "execution_count": 2,
   "metadata": {},
   "outputs": [],
   "source": [
    "# Specify the directory\n",
    "current_path = os.getcwd()\n",
    "directory_path = os.path.join(current_path, 'buehler_output')\n",
    "\n",
    "# Use glob to find all .txt files in the directory\n",
    "txt_files = glob.glob(os.path.join(directory_path, '*.txt'))"
   ]
  },
  {
   "cell_type": "code",
   "execution_count": null,
   "metadata": {},
   "outputs": [],
   "source": [
    "identifiers = [\n",
    "    \"0,2\", \n",
    "    \"10,0\",\n",
    "    \"25,0\"\n",
    "]\n",
    "with pd.ExcelWriter(os.path.join(current_path, 'metrics.xlsx'), engine='xlsxwriter') as writer:\n",
    "    for identifier in identifiers:\n",
    "        # Initialize dictionaries to store metrics\n",
    "        metric1_data = {}\n",
    "        metric2_data = {}\n",
    "        count = 0\n",
    "        # Loop through the list of .txt files\n",
    "        for txt_file in txt_files:\n",
    "            specification = txt_file.split(os.sep)[-1].split(\"_\")[1:]\n",
    "            if specification[-2] != identifier:\n",
    "                continue\n",
    "            if specification[0] == 'GBM':\n",
    "                start_index = 0\n",
    "            elif specification[0] == 'Kou':\n",
    "                start_index = 2\n",
    "            else: \n",
    "                continue\n",
    "            count += 1\n",
    "            # Open and read the file\n",
    "            with open(txt_file, 'r') as file:\n",
    "                content = file.read()\n",
    "                metric_strings = content.split('\\n')\n",
    "\n",
    "                n_in = int(specification[1 + start_index])\n",
    "                n_out = int(specification[2 + start_index])\n",
    "                metric1 = metric_strings[0].split('=')[1][1:-1]\n",
    "                metric1 = round(float(metric1) / 100, 6)\n",
    "                metric2 = metric_strings[1].split('=')[1][1:-1]\n",
    "                metric2 = round(float(metric2) / 100, 6)\n",
    "                \n",
    "                # Add data to dictionaries\n",
    "                if n_in not in metric1_data:\n",
    "                    metric1_data[n_in] = {}\n",
    "                if n_in not in metric2_data:\n",
    "                    metric2_data[n_in] = {}\n",
    "                    \n",
    "                metric1_data[n_in][n_out] = metric1\n",
    "                metric2_data[n_in][n_out] = metric2\n",
    "\n",
    "                if count == 25:\n",
    "                    # Create DataFrames from the dictionaries\n",
    "                    metric1_df = pd.DataFrame.from_dict(metric1_data, orient='index').sort_index(axis=0).sort_index(axis=1)\n",
    "                    metric2_df = pd.DataFrame.from_dict(metric2_data, orient='index').sort_index(axis=0).sort_index(axis=1)\n",
    "                    print(metric1_data)\n",
    "                    print(metric1_df)\n",
    "                    # Export the DataFrames to different sheets in the same Excel file\n",
    "                    metric1_df.to_excel(writer, sheet_name=f'metric1_{specification[0] + identifier}', index=True)\n",
    "                    metric2_df.to_excel(writer, sheet_name=f'metric2_{specification[0] + identifier}', index=True)\n",
    "                    # Reset dictionaries to store metrics\n",
    "                    metric1_data = {}\n",
    "                    metric2_data = {}\n",
    "                    count = 0"
   ]
  }
 ],
 "metadata": {
  "kernelspec": {
   "display_name": ".venv",
   "language": "python",
   "name": "python3"
  },
  "language_info": {
   "codemirror_mode": {
    "name": "ipython",
    "version": 3
   },
   "file_extension": ".py",
   "mimetype": "text/x-python",
   "name": "python",
   "nbconvert_exporter": "python",
   "pygments_lexer": "ipython3",
   "version": "3.7.9"
  }
 },
 "nbformat": 4,
 "nbformat_minor": 2
}
