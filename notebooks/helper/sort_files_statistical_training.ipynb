{
 "cells": [
  {
   "cell_type": "code",
   "execution_count": 1,
   "metadata": {},
   "outputs": [],
   "source": [
    "import os\n",
    "import shutil\n",
    "import re\n",
    "current_directory = os.getcwd()\n",
    "market_gen_path = os.path.dirname(current_directory)"
   ]
  },
  {
   "cell_type": "code",
   "execution_count": 2,
   "metadata": {},
   "outputs": [],
   "source": [
    "def sort_files(source_folder):\n",
    "    # Create a dictionary to map option maturity to the correct folder name\n",
    "    maturity_mapping = {\n",
    "        '5_days': '5D',\n",
    "        '10_days': '10D',\n",
    "        '21_days': '21D',\n",
    "        '252_days': '252D'\n",
    "    }\n",
    "    \n",
    "    # List of retrained inputs for n-in, excluding the special case \"0Y\"\n",
    "    same_model_inputs = ['3Y', '10Y', '100Y', '1000Y', '10000Y']\n",
    "    \n",
    "    # Updated flexible regular expression pattern with handling for n-in=0Y\n",
    "    file_pattern = re.compile(r\"n-in=(?P<input_years>\\d+[A-Za-z])[_-]\"   # Matches the n-in part (e.g., n-in=3Y)\n",
    "                              r\"(?P<option_maturity>\\d+_days)[_-]\"       # Matches the option maturity (e.g., 5_days)\n",
    "                              r\"(?P<option_type>call|put)\"               # Matches call or put\n",
    "                              r\"(?P<model_suffix>retrained_model_|same_model_)?\\.png$\", re.IGNORECASE)  # Optional suffix\n",
    "\n",
    "    # Traverse through files in the source folder\n",
    "    for file_name in os.listdir(source_folder):\n",
    "        # Ensure we're only working with files and not directories\n",
    "        if os.path.isfile(os.path.join(source_folder, file_name)):            \n",
    "            # Match the file name with the regex pattern\n",
    "            match = file_pattern.search(file_name)\n",
    "            \n",
    "            if match:\n",
    "                input_years = match.group('input_years')\n",
    "                option_maturity = match.group('option_maturity').strip('_')\n",
    "                option_type = match.group('option_type').lower()  # Normalize to lowercase\n",
    "                model_suffix = match.group('model_suffix')  # Can be 'retrained_model_', 'same_model_', or None\n",
    "                                \n",
    "                # Determine the first folder level\n",
    "                if input_years == '0Y':\n",
    "                    # Special case: n-in=0Y, we determine the folder from the model suffix\n",
    "                    if model_suffix is not None:\n",
    "                        first_level_folder = \"Retrained\" if 'retrained_model_' in model_suffix else \"SameModel\"\n",
    "                    else:\n",
    "                        print(f\"Error: no model suffix found for {file_name}\")\n",
    "                        continue\n",
    "                else:\n",
    "                    # Normal case: Based on retrained_inputs\n",
    "                    first_level_folder = \"SameModel\" if input_years in same_model_inputs else \"Retrained\"\n",
    "                \n",
    "                # Determine the second folder level: maturity (5D, 10D, etc.)\n",
    "                second_level_folder = maturity_mapping.get(option_maturity, option_maturity)\n",
    "                \n",
    "                # Determine the third folder level: call or put\n",
    "                third_level_folder = option_type\n",
    "                \n",
    "                # Create the folder path\n",
    "                destination_folder = os.path.join(source_folder, first_level_folder, second_level_folder, third_level_folder)\n",
    "                \n",
    "                # Create the folders if they do not exist\n",
    "                os.makedirs(destination_folder, exist_ok=True)\n",
    "                \n",
    "                # Move the file to the new folder\n",
    "                shutil.move(os.path.join(source_folder, file_name), os.path.join(destination_folder, file_name))\n",
    "                print(f\"Moved {file_name} to {destination_folder}\")\n",
    "            else:\n",
    "                # Debugging output: print if no match is found\n",
    "                print(f\"No match for file: {file_name}\")"
   ]
  },
  {
   "cell_type": "code",
   "execution_count": null,
   "metadata": {},
   "outputs": [],
   "source": [
    "# Path to the folder containing the files to be sorted\n",
    "source_folder = market_gen_path + \"/stat_plots/YFinance\"  # Replace this with your actual folder path\n",
    "\n",
    "# Call the function to sort files\n",
    "sort_files(source_folder)"
   ]
  }
 ],
 "metadata": {
  "kernelspec": {
   "display_name": ".venv",
   "language": "python",
   "name": "python3"
  },
  "language_info": {
   "codemirror_mode": {
    "name": "ipython",
    "version": 3
   },
   "file_extension": ".py",
   "mimetype": "text/x-python",
   "name": "python",
   "nbconvert_exporter": "python",
   "pygments_lexer": "ipython3",
   "version": "3.7.9"
  }
 },
 "nbformat": 4,
 "nbformat_minor": 2
}
